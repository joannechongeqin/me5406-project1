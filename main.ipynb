{
 "cells": [
  {
   "cell_type": "code",
   "execution_count": null,
   "metadata": {},
   "outputs": [],
   "source": [
    "import os\n",
    "from frozen_lake_env import FrozenLakeEnv\n",
    "from monte_carlo_control import MonteCarloControl\n",
    "from sarsa_control import SarsaControl\n",
    "from q_learning_control import QLearningControl\n",
    "from grid_inputs import grid_input_4x4, grid_input_10x10\n",
    "import shutil\n",
    "\n",
    "plots_dir = os.path.join(os.getcwd(), \"plots\")\n",
    "\n",
    "if os.path.exists(plots_dir):\n",
    "    shutil.rmtree(plots_dir)"
   ]
  },
  {
   "cell_type": "code",
   "execution_count": null,
   "metadata": {},
   "outputs": [],
   "source": [
    "env_4x4 = FrozenLakeEnv(grid_input=grid_input_4x4)   \n",
    "num_of_episodes_4x4 = 5000\n",
    "max_steps_4x4 = 100\n",
    "epsilon_4x4 = 0.15\n",
    "\n",
    "# Monte Carlo Control\n",
    "mc_4x4 = MonteCarloControl(env=env_4x4, \n",
    "                           num_of_episodes=num_of_episodes_4x4, \n",
    "                           max_steps=max_steps_4x4, \n",
    "                           epsilon=0.3, \n",
    "                           plots_dir=os.path.join(os.getcwd(), \"plots\", \"mc_4x4\"))\n",
    "mc_policy = mc_4x4.extract_optimal_policy()\n",
    "\n",
    "# SARSA Control\n",
    "sarsa = SarsaControl(env=env_4x4, \n",
    "                     num_of_episodes=num_of_episodes_4x4, \n",
    "                     max_steps=max_steps_4x4, \n",
    "                     epsilon=epsilon_4x4, \n",
    "                     plots_dir=os.path.join(os.getcwd(), \"plots\", \"sarsa_4x4\"))\n",
    "sarsa_policy = sarsa.extract_optimal_policy()\n",
    "\n",
    "# Q-Learning Control\n",
    "q_learning = QLearningControl(env=env_4x4, \n",
    "                              num_of_episodes=num_of_episodes_4x4, \n",
    "                              max_steps=max_steps_4x4, \n",
    "                              epsilon=epsilon_4x4, \n",
    "                              plots_dir=os.path.join(os.getcwd(), \"plots\", \"q_learning_4x4\"))\n",
    "q_learning_policy = q_learning.extract_optimal_policy()"
   ]
  },
  {
   "cell_type": "code",
   "execution_count": null,
   "metadata": {},
   "outputs": [],
   "source": [
    "env_10x10 = FrozenLakeEnv(grid_input=grid_input_10x10)\n",
    "num_of_episodes_10x10 = 10000\n",
    "max_steps_10x10 = 1000\n",
    "epsilon_10x10 = 0.15\n",
    "\n",
    "# Monte Carlo Control\n",
    "mc_10x10 = MonteCarloControl(env=env_10x10, \n",
    "                            num_of_episodes=100000, \n",
    "                            max_steps=1000000, \n",
    "                            epsilon=1.0, \n",
    "                            epsilon_decay=0.9999,\n",
    "                            min_epsilon=0.7,\n",
    "                            gamma=0.98,\n",
    "                            plots_dir=os.path.join(os.getcwd(), \"plots\", \"mc_10x10\"))\n",
    "mc_policy_10x10 = mc_10x10.extract_optimal_policy()\n",
    "\n",
    "# SARSA Control\n",
    "sarsa_10x10 = SarsaControl(env=env_10x10, \n",
    "                           num_of_episodes=num_of_episodes_10x10, \n",
    "                           max_steps=max_steps_10x10, \n",
    "                           epsilon=epsilon_10x10, \n",
    "                           plots_dir=os.path.join(os.getcwd(), \"plots\", \"sarsa_10x10\"))\n",
    "sarsa_policy_10x10 = sarsa_10x10.extract_optimal_policy()\n",
    "\n",
    "# Q-Learning Control\n",
    "q_learning_10x10 = QLearningControl(env=env_10x10, \n",
    "                                    num_of_episodes=num_of_episodes_10x10, \n",
    "                                    max_steps=max_steps_10x10, \n",
    "                                    epsilon=epsilon_10x10, \n",
    "                                    plots_dir=os.path.join(os.getcwd(), \"plots\", \"q_learning_10x10\"))\n",
    "q_learning_policy_10x10 = q_learning_10x10.extract_optimal_policy()"
   ]
  }
 ],
 "metadata": {
  "kernelspec": {
   "display_name": "frozen-lake",
   "language": "python",
   "name": "python3"
  },
  "language_info": {
   "codemirror_mode": {
    "name": "ipython",
    "version": 3
   },
   "file_extension": ".py",
   "mimetype": "text/x-python",
   "name": "python",
   "nbconvert_exporter": "python",
   "pygments_lexer": "ipython3",
   "version": "3.13.2"
  }
 },
 "nbformat": 4,
 "nbformat_minor": 2
}
