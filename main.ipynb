{
 "cells": [
  {
   "cell_type": "code",
   "execution_count": null,
   "metadata": {},
   "outputs": [],
   "source": [
    "import os\n",
    "from frozen_lake_env import FrozenLakeEnv\n",
    "from monte_carlo_control import MonteCarloControl\n",
    "from sarsa_control import SarsaControl\n",
    "from q_learning_control import QLearningControl\n",
    "from grid_inputs import grid_input_4x4, grid_input_10x10\n",
    "import shutil\n",
    "from plotter import ComparePlotter\n",
    "\n",
    "plots_dir = os.path.join(os.getcwd(), \"plots\")\n",
    "\n",
    "if os.path.exists(plots_dir):\n",
    "    shutil.rmtree(plots_dir)"
   ]
  },
  {
   "cell_type": "code",
   "execution_count": null,
   "metadata": {},
   "outputs": [],
   "source": [
    "env_4x4 = FrozenLakeEnv(grid_input=grid_input_4x4, step_penalty=True)   \n",
    "num_of_episodes_4x4 = 1000\n",
    "max_steps_4x4 = 100\n",
    "epsilon_4x4 = 0.15\n",
    "\n",
    "# Monte Carlo Control\n",
    "mc_4x4 = MonteCarloControl(env=env_4x4, \n",
    "                           num_of_episodes=num_of_episodes_4x4, \n",
    "                           max_steps=max_steps_4x4, \n",
    "                           epsilon=epsilon_4x4, \n",
    "                           plots_dir=os.path.join(os.getcwd(), \"plots\", \"mc_4x4\"))\n",
    "mc_policy = mc_4x4.extract_optimal_policy()\n",
    "# mc_4x4.plotter.plot_episode_lengths(show=True)\n",
    "# mc_4x4.plotter.plot_cummulative_average_rewards(show=True)\n",
    "# mc_4x4.plotter.plot_success_failure_rate(show=True)\n",
    "\n",
    "# SARSA Control\n",
    "sarsa_4x4 = SarsaControl(env=env_4x4, \n",
    "                     num_of_episodes=num_of_episodes_4x4, \n",
    "                     max_steps=max_steps_4x4, \n",
    "                     epsilon=epsilon_4x4, \n",
    "                     plots_dir=os.path.join(os.getcwd(), \"plots\", \"sarsa_4x4\"))\n",
    "sarsa_policy = sarsa_4x4.extract_optimal_policy()\n",
    "# sarsa_4x4.plotter.plot_episode_lengths(show=True)\n",
    "# sarsa_4x4.plotter.plot_cummulative_average_rewards(show=True)\n",
    "# sarsa_4x4.plotter.plot_success_failure_rate(show=True)\n",
    "\n",
    "# Q-Learning Control\n",
    "q_learning_4x4 = QLearningControl(env=env_4x4, \n",
    "                              num_of_episodes=num_of_episodes_4x4, \n",
    "                              max_steps=max_steps_4x4, \n",
    "                              epsilon=epsilon_4x4, \n",
    "                              plots_dir=os.path.join(os.getcwd(), \"plots\", \"q_learning_4x4\"))\n",
    "q_learning_policy = q_learning_4x4.extract_optimal_policy()\n",
    "# q_learning_4x4.plotter.plot_episode_lengths(show=True)\n",
    "# q_learning_4x4.plotter.plot_cummulative_average_rewards(show=True)\n",
    "# q_learning_4x4.plotter.plot_success_failure_rate(show=True)\n",
    "\n",
    "rl_agents = [mc_4x4, sarsa_4x4, q_learning_4x4]\n",
    "names = [\"MC\", \"SARSA\", \"Q-Learning\"]\n",
    "compare_plotter = ComparePlotter(rl_agents, names)\n",
    "compare_plotter.plot_success_failure_rate(show=True)\n",
    "compare_plotter.plot_episode_lengths(show=True)\n",
    "compare_plotter.plot_cummulative_average_rewards(show=True)"
   ]
  },
  {
   "cell_type": "code",
   "execution_count": null,
   "metadata": {},
   "outputs": [
    {
     "ename": "NameError",
     "evalue": "name 'FrozenLakeEnv' is not defined",
     "output_type": "error",
     "traceback": [
      "\u001b[0;31m---------------------------------------------------------------------------\u001b[0m",
      "\u001b[0;31mNameError\u001b[0m                                 Traceback (most recent call last)",
      "Cell \u001b[0;32mIn[1], line 1\u001b[0m\n\u001b[0;32m----> 1\u001b[0m env_10x10 \u001b[38;5;241m=\u001b[39m \u001b[43mFrozenLakeEnv\u001b[49m(grid_input\u001b[38;5;241m=\u001b[39mgrid_input_10x10)\n\u001b[1;32m      2\u001b[0m num_of_episodes_10x10 \u001b[38;5;241m=\u001b[39m \u001b[38;5;241m10000\u001b[39m\n\u001b[1;32m      3\u001b[0m max_steps_10x10 \u001b[38;5;241m=\u001b[39m \u001b[38;5;241m5000\u001b[39m\n",
      "\u001b[0;31mNameError\u001b[0m: name 'FrozenLakeEnv' is not defined"
     ]
    }
   ],
   "source": [
    "env_10x10 = FrozenLakeEnv(grid_input=grid_input_10x10)\n",
    "num_of_episodes_10x10 = 10000\n",
    "max_steps_10x10 = 5000\n",
    "epsilon_10x10 = 0.15\n",
    "\n",
    "# SARSA Control\n",
    "sarsa_10x10 = SarsaControl(env=env_10x10, \n",
    "                           num_of_episodes=num_of_episodes_10x10, \n",
    "                           max_steps=max_steps_10x10, \n",
    "                           epsilon=epsilon_10x10, \n",
    "                           plots_dir=os.path.join(os.getcwd(), \"plots\", \"sarsa_10x10\"))\n",
    "sarsa_policy_10x10 = sarsa_10x10.extract_optimal_policy()\n",
    "\n",
    "# Q-Learning Control\n",
    "q_learning_10x10 = QLearningControl(env=env_10x10, \n",
    "                                    num_of_episodes=num_of_episodes_10x10, \n",
    "                                    max_steps=max_steps_10x10, \n",
    "                                    epsilon=epsilon_10x10, \n",
    "                                    plots_dir=os.path.join(os.getcwd(), \"plots\", \"q_learning_10x10\"))\n",
    "q_learning_policy_10x10 = q_learning_10x10.extract_optimal_policy()\n",
    "\n",
    "# Monte Carlo Control\n",
    "mc_10x10 = MonteCarloControl(env=env_10x10, \n",
    "                            num_of_episodes=num_of_episodes_10x10, \n",
    "                            max_steps=max_steps_10x10, \n",
    "                            # epsilon=, \n",
    "                            # epsilon_decay=0.9999,\n",
    "                            # min_epsilon=0.7,\n",
    "                            # gamma=0.98,\n",
    "                            plots_dir=os.path.join(os.getcwd(), \"plots\", \"mc_10x10\"))\n",
    "mc_policy_10x10 = mc_10x10.extract_optimal_policy()\n",
    "\n",
    "rl_agents = [mc_10x10, sarsa_10x10, q_learning_10x10]\n",
    "names = [\"MC\", \"SARSA\", \"Q-Learning\"]\n",
    "compare_plotter = ComparePlotter(rl_agents, names)\n",
    "compare_plotter.plot_success_failure_rate(show=True)\n",
    "compare_plotter.plot_episode_lengths(show=True)\n",
    "compare_plotter.plot_cummulative_average_rewards(show=True)"
   ]
  }
 ],
 "metadata": {
  "kernelspec": {
   "display_name": "frozen-lake",
   "language": "python",
   "name": "python3"
  },
  "language_info": {
   "codemirror_mode": {
    "name": "ipython",
    "version": 3
   },
   "file_extension": ".py",
   "mimetype": "text/x-python",
   "name": "python",
   "nbconvert_exporter": "python",
   "pygments_lexer": "ipython3",
   "version": "3.13.2"
  }
 },
 "nbformat": 4,
 "nbformat_minor": 2
}
